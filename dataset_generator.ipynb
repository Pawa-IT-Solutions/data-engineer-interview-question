{
 "cells": [
  {
   "cell_type": "code",
   "execution_count": null,
   "metadata": {},
   "outputs": [],
   "source": [
    "!pip install pandas numpy"
   ]
  },
  {
   "cell_type": "code",
   "execution_count": null,
   "metadata": {},
   "outputs": [],
   "source": [
    "import pandas as pd\n",
    "import numpy as np\n",
    "\n",
    "# Define the number of students\n",
    "num_students = 100\n",
    "\n",
    "# Generate random values for each column\n",
    "genders = np.random.choice(['male', 'female'], num_students)\n",
    "races = np.random.choice(['luhya', 'kikuyu', 'maasai', 'luo', 'kamba', 'kisii', 'meru', 'taita'], num_students)\n",
    "parental_education = np.random.choice(['kcpe', 'kcse', 'polytechnic', 'university'], num_students)\n",
    "lunches = np.random.choice(['standard', 'free/reduced'], num_students)\n",
    "test_preparation = np.random.choice(['none', 'completed'], num_students)\n",
    "math_scores = np.random.randint(0, 101, num_students)\n",
    "reading_scores = np.random.randint(0, 101, num_students)\n",
    "writing_scores = np.random.randint(0, 101, num_students)\n",
    "\n",
    "# Create a DataFrame\n",
    "df = pd.DataFrame({\n",
    "    'gender': genders,\n",
    "    'race/ethnicity': races,\n",
    "    'parental level of education': parental_education,\n",
    "    'lunch': lunches,\n",
    "    'test preparation course': test_preparation,\n",
    "    'math score': math_scores,\n",
    "    'reading score': reading_scores,\n",
    "    'writing score': writing_scores\n",
    "})\n",
    "\n",
    "# Save the DataFrame to a CSV file\n",
    "df.to_csv('student_performance.csv', index=False)\n",
    "\n",
    "# # Display the first few rows of the DataFrame\n",
    "# print(df.head())\n",
    "df.head()"
   ]
  }
 ],
 "metadata": {
  "language_info": {
   "name": "python"
  }
 },
 "nbformat": 4,
 "nbformat_minor": 2
}
